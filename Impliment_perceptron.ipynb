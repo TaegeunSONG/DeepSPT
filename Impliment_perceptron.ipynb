{
  "nbformat": 4,
  "nbformat_minor": 0,
  "metadata": {
    "colab": {
      "provenance": [],
      "authorship_tag": "ABX9TyNnqaWUS1sJGEHr46nj5/U6",
      "include_colab_link": true
    },
    "kernelspec": {
      "name": "python3",
      "display_name": "Python 3"
    },
    "language_info": {
      "name": "python"
    }
  },
  "cells": [
    {
      "cell_type": "markdown",
      "metadata": {
        "id": "view-in-github",
        "colab_type": "text"
      },
      "source": [
        "<a href=\"https://colab.research.google.com/github/TaegeunSONG/DeepSPT/blob/main/Impliment_perceptron.ipynb\" target=\"_parent\"><img src=\"https://colab.research.google.com/assets/colab-badge.svg\" alt=\"Open In Colab\"/></a>"
      ]
    },
    {
      "cell_type": "code",
      "source": [
        "import numpy as np\n",
        "import matplotlib.pyplot as plt\n",
        "import sklearn.preprocessing as preprocs\n",
        "\n",
        "from tensorflow.keras.models import Sequential\n",
        "from tensorflow.keras.layers import Dense, Input\n",
        "from tensorflow.keras import datasets\n",
        "from tensorflow.keras.utils import to_categorical, plot_model"
      ],
      "metadata": {
        "id": "ipISPIxdd-Ci"
      },
      "execution_count": null,
      "outputs": []
    },
    {
      "cell_type": "markdown",
      "source": [
        "## Data load"
      ],
      "metadata": {
        "id": "1a39NyIzd618"
      }
    },
    {
      "cell_type": "code",
      "source": [
        "(x_train, y_train), (x_test, y_test) = datasets.mnist.load_data()"
      ],
      "metadata": {
        "id": "JSSJiOWHfcEY"
      },
      "execution_count": null,
      "outputs": []
    },
    {
      "cell_type": "code",
      "source": [
        "i=5\n",
        "print(y_train[i])\n",
        "plt.imshow(x_train[i], cmap='gray')\n",
        "plt.title(f'label: {y_train[i]}')\n",
        "plt.show()"
      ],
      "metadata": {
        "id": "4KD6Uxiife44"
      },
      "execution_count": null,
      "outputs": []
    },
    {
      "cell_type": "code",
      "source": [
        "idx=[]\n",
        "\n",
        "for id in range(10):\n",
        "    for i in range(y_test.shape[0]):\n",
        "        if y_test[i] == id:\n",
        "          idx.append(i)\n",
        "          break\n",
        "\n",
        "# plot datasets\n",
        "fig, axes = plt.subplots(ncols=5, nrows=2, figsize=(18,6))\n",
        "fig.subplots_adjust(hspace=0.4, wspace=0.4)\n",
        "\n",
        "for i in range(10):\n",
        "\t  axes[i//5, i%5].imshow(x_test[idx[i]], cmap=plt.get_cmap('gray'))\n",
        "fig.show()"
      ],
      "metadata": {
        "id": "uVvaabQ6fgv4"
      },
      "execution_count": null,
      "outputs": []
    },
    {
      "cell_type": "markdown",
      "source": [
        "## Multi layer perceptron"
      ],
      "metadata": {
        "id": "BzvFYP-4gAl4"
      }
    },
    {
      "cell_type": "code",
      "source": [
        "# preprocessing\n",
        "\n",
        "mlp_data = np.reshape(x_train, (-1,784))\n",
        "mlp_label = to_categorical(y_train)             # one-hot encoding\n",
        "\n",
        "mlp_data_test = np.reshape(x_test, (-1,784))\n",
        "mlp_label_test = to_categorical(y_test)"
      ],
      "metadata": {
        "id": "-DWcpfCUfvWV"
      },
      "execution_count": null,
      "outputs": []
    },
    {
      "cell_type": "code",
      "source": [
        "i=10\n",
        "plt.imshow(np.reshape(mlp_data[i], (28,28)), cmap='gray')\n",
        "plt.title(mlp_label[i])\n",
        "plt.show()"
      ],
      "metadata": {
        "id": "z2eJUnQogNQx"
      },
      "execution_count": null,
      "outputs": []
    },
    {
      "cell_type": "code",
      "source": [
        "# create model\n",
        "\n",
        "model = Sequential()\n",
        "model.add(Dense(300, input_dim=784, activation='relu', name='1st'))\n",
        "model.add(Dense(10, activation='softmax'))\n",
        "\n",
        "model.summary()\n"
      ],
      "metadata": {
        "id": "ZYZeYSx-gQPp"
      },
      "execution_count": null,
      "outputs": []
    },
    {
      "cell_type": "code",
      "source": [
        "# compile model\n",
        "model.compile(loss='binary_crossentropy', optimizer='sgd', metrics=['accuracy'])"
      ],
      "metadata": {
        "id": "PmwcoHhHgjb0"
      },
      "execution_count": null,
      "outputs": []
    },
    {
      "cell_type": "code",
      "source": [
        "# train model\n",
        "history = model.fit(mlp_data, mlp_label, epochs=10, batch_size=100, verbose=1, validation_split=0.3)"
      ],
      "metadata": {
        "id": "HMEWJ_vcgniF"
      },
      "execution_count": null,
      "outputs": []
    },
    {
      "cell_type": "code",
      "source": [
        "scores = model.evaluate(mlp_data_test, mlp_label_test)\n",
        "\n",
        "print(\"\\n%s: %.2f%%\" % (model.metrics_names[1], scores[1]*100))"
      ],
      "metadata": {
        "id": "TY_rFY9PgsXc"
      },
      "execution_count": null,
      "outputs": []
    },
    {
      "cell_type": "code",
      "source": [
        "fig, axes = plt.subplots(ncols=2, nrows=1, figsize=(12,6))\n",
        "fig.suptitle('Learning Curves')\n",
        "\n",
        "axes[0].plot(history.history['loss'], 'o-', label='train')\n",
        "axes[0].plot(history.history['val_loss'], 'o-', label='val')\n",
        "axes[0].set_xlabel('Epoch')\n",
        "axes[0].set_ylabel('Cross Entropy')\n",
        "axes[0].set_title('Loss')\n",
        "axes[0].legend()\n",
        "\n",
        "axes[1].set_xlabel('Epoch')\n",
        "axes[1].set_ylabel('accuracy')\n",
        "axes[1].plot(history.history['accuracy'], 'o-', label='train')\n",
        "axes[1].plot(history.history['val_accuracy'], 'o-', label='val')\n",
        "axes[1].set_title('accuracy')\n",
        "axes[1].legend()\n",
        "\n",
        "plt.show()"
      ],
      "metadata": {
        "id": "trk2XQ1Dgw3l"
      },
      "execution_count": null,
      "outputs": []
    },
    {
      "cell_type": "code",
      "source": [],
      "metadata": {
        "id": "gFy7QHa3gy4k"
      },
      "execution_count": null,
      "outputs": []
    }
  ]
}